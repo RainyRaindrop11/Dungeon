{
 "cells": [
  {
   "cell_type": "code",
   "execution_count": 37,
   "metadata": {},
   "outputs": [],
   "source": [
    "class hero:\n",
    "    def __init__(self,name,damage,hp,level,exp,x_pos,y_pos,dungeon):\n",
    "        #constructer\n",
    "        self.name = name\n",
    "        self.damage = damage\n",
    "        self.hp = hp\n",
    "        self.level = level\n",
    "        self.exp = exp\n",
    "        self.x_pos = x_pos\n",
    "        self.y_pos = y_pos\n",
    "        self.dungeon = dungeon\n",
    "        x = self.x_pos\n",
    "        y = self.y_pos\n",
    "        return x\n",
    "        return y\n",
    "    \n",
    "    def attack(self,target,dungeon):\n",
    "        #check position\n",
    "        if target.hp <= 0:\n",
    "            print(str(target.name) + \" has already died\")\n",
    "        else:\n",
    "            if self.x_pos == target.x_pos - 1 or self.x_pos == target.x_pos + 1 or self.y_pos == target.y_pos - 1 or self.y_pos == target.y_pos + 1:\n",
    "                target.hp -= self.damage\n",
    "                self.hp -= target.damage\n",
    "            else:\n",
    "                print(\"Attack Failed. You are not close enough to the enemy.\")\n",
    "            \n",
    "            if target.hp <= 0:\n",
    "                target.x_pos = -1\n",
    "                print(str(target.name) + \" has died.\")\n",
    "                self.exp += target.exp\n",
    "                dungeon.noe -= 1\n",
    "            \n",
    "            if self.hp <= 0:\n",
    "                self.x_pos = -10\n",
    "                print(\"You have lost, try again.\")\n",
    "            \n",
    "            if dungeon.noe <= 0:\n",
    "                print(\"All enemies defeated. Now open the dungeon door.\")\n",
    "            \n",
    "    \n",
    "            if self.exp >= 100:\n",
    "                self.exp -= 100\n",
    "                self.level += 1\n",
    "                self.hp = 150\n",
    "                self.damage += 10\n",
    "                print(str(self.name) + \" has leveled up.\")\n",
    "            \n",
    "    def move(self,x_spaces,y_spaces,dungeon):\n",
    "        self.y_pos += y_spaces\n",
    "        self.x_pos += x_spaces\n",
    "        \n",
    "        if self.x_pos >= dungeon.length:\n",
    "            self.x_pos -= x_spaces\n",
    "            \n",
    "        if self.y_pos >= dungeon.width:\n",
    "            self.y_pos -= y_spaces\n",
    "            \n",
    "        if self.x_pos <= 0:\n",
    "            self.x_pos -= x_spaces\n",
    "            \n",
    "        if self.y_pos <= 0:\n",
    "            self.y_pos -= y_spaces\n",
    "        x = self.x_pos\n",
    "        y = self.y_pos\n",
    "        return x\n",
    "        return y\n",
    "        \n",
    "        print(str(self.x_pos) + \",\" + str(self.y_pos))\n",
    "        \n",
    "    def Open(self,dungeon_door,dungeon):\n",
    "        if self.y_pos == dungeon_door.y_pos - 1 and dungeon.noe == 0:\n",
    "            print(\"You have completed the Dungeon.\")\n",
    "        else:\n",
    "            print(\"You have not killed all the enemies or you are not near the door.\")\n",
    "            "
   ]
  },
  {
   "cell_type": "code",
   "execution_count": 38,
   "metadata": {},
   "outputs": [],
   "source": [
    "class enemy:\n",
    "    def __init__(self,damage,hp,name,exp,x_pos,y_pos,dungeon):\n",
    "        #constructer\n",
    "        self.damage = damage\n",
    "        self.hp = hp\n",
    "        self.name = name\n",
    "        self.exp = exp\n",
    "        self.x_pos = x_pos\n",
    "        self.y_pos = y_pos"
   ]
  },
  {
   "cell_type": "code",
   "execution_count": 39,
   "metadata": {},
   "outputs": [],
   "source": [
    "class Archer:\n",
    "    def __init__(self,damage,hp,name,exp,x_pos,y_pos,dungeon,hero):\n",
    "        self.damage = damage\n",
    "        self.hp = hp\n",
    "        self.exp = exp\n",
    "        self.x_pos = x_pos\n",
    "        self.y_pos = y_pos\n",
    "        self.dungeon = dungeon\n",
    "        print(str(x))\n",
    "        "
   ]
  },
  {
   "cell_type": "code",
   "execution_count": 40,
   "metadata": {},
   "outputs": [],
   "source": [
    "class dungeon:\n",
    "    def __init__(self,length,width,hero,name,noe):\n",
    "        #noe = number of enemies\n",
    "        self.length = length\n",
    "        self.width = width\n",
    "        self.hero = hero\n",
    "        self.name = name\n",
    "        self.noe = noe"
   ]
  },
  {
   "cell_type": "code",
   "execution_count": 41,
   "metadata": {},
   "outputs": [],
   "source": [
    "class dungeon_door:\n",
    "    def __init__(self,name,x_pos,y_pos):\n",
    "        self.name = name\n",
    "        self.x_pos = x_pos\n",
    "        self.y_pos = y_pos"
   ]
  },
  {
   "cell_type": "code",
   "execution_count": 42,
   "metadata": {},
   "outputs": [],
   "source": [
    "battle_arena = dungeon(15,15,Bo,\"Battle Arena\",3)"
   ]
  },
  {
   "cell_type": "code",
   "execution_count": 43,
   "metadata": {},
   "outputs": [
    {
     "ename": "TypeError",
     "evalue": "__init__() should return None, not 'int'",
     "output_type": "error",
     "traceback": [
      "\u001b[0;31m---------------------------------------------------------------------------\u001b[0m",
      "\u001b[0;31mTypeError\u001b[0m                                 Traceback (most recent call last)",
      "\u001b[0;32m<ipython-input-43-65daa98d265c>\u001b[0m in \u001b[0;36m<module>\u001b[0;34m\u001b[0m\n\u001b[0;32m----> 1\u001b[0;31m \u001b[0mBo\u001b[0m \u001b[0;34m=\u001b[0m \u001b[0mhero\u001b[0m\u001b[0;34m(\u001b[0m\u001b[0;34m\"Bo\"\u001b[0m\u001b[0;34m,\u001b[0m\u001b[0;36m50\u001b[0m\u001b[0;34m,\u001b[0m\u001b[0;36m150\u001b[0m\u001b[0;34m,\u001b[0m\u001b[0;36m1\u001b[0m\u001b[0;34m,\u001b[0m\u001b[0;36m0\u001b[0m\u001b[0;34m,\u001b[0m\u001b[0;36m1\u001b[0m\u001b[0;34m,\u001b[0m\u001b[0;36m1\u001b[0m\u001b[0;34m,\u001b[0m\u001b[0mbattle_arena\u001b[0m\u001b[0;34m)\u001b[0m\u001b[0;34m\u001b[0m\u001b[0;34m\u001b[0m\u001b[0m\n\u001b[0m",
      "\u001b[0;31mTypeError\u001b[0m: __init__() should return None, not 'int'"
     ]
    }
   ],
   "source": [
    "Bo = hero(\"Bo\",50,150,1,0,1,1,battle_arena)"
   ]
  },
  {
   "cell_type": "code",
   "execution_count": 35,
   "metadata": {},
   "outputs": [],
   "source": [
    "Bull = enemy(20,50,\"Bull\",100,5,5,battle_arena)"
   ]
  },
  {
   "cell_type": "code",
   "execution_count": 36,
   "metadata": {},
   "outputs": [
    {
     "ename": "NameError",
     "evalue": "name 'x' is not defined",
     "output_type": "error",
     "traceback": [
      "\u001b[0;31m---------------------------------------------------------------------------\u001b[0m",
      "\u001b[0;31mNameError\u001b[0m                                 Traceback (most recent call last)",
      "\u001b[0;32m<ipython-input-36-96a87c8e0aea>\u001b[0m in \u001b[0;36m<module>\u001b[0;34m\u001b[0m\n\u001b[0;32m----> 1\u001b[0;31m \u001b[0mname\u001b[0m \u001b[0;34m=\u001b[0m \u001b[0mArcher\u001b[0m\u001b[0;34m(\u001b[0m\u001b[0;36m20\u001b[0m\u001b[0;34m,\u001b[0m\u001b[0;36m50\u001b[0m\u001b[0;34m,\u001b[0m\u001b[0;34m\"name\"\u001b[0m\u001b[0;34m,\u001b[0m\u001b[0;36m5\u001b[0m\u001b[0;34m,\u001b[0m\u001b[0;36m7\u001b[0m\u001b[0;34m,\u001b[0m\u001b[0;36m10\u001b[0m\u001b[0;34m,\u001b[0m\u001b[0mbattle_arena\u001b[0m\u001b[0;34m,\u001b[0m\u001b[0mBo\u001b[0m\u001b[0;34m)\u001b[0m\u001b[0;34m\u001b[0m\u001b[0;34m\u001b[0m\u001b[0m\n\u001b[0m",
      "\u001b[0;32m<ipython-input-30-4883d4abe213>\u001b[0m in \u001b[0;36m__init__\u001b[0;34m(self, damage, hp, name, exp, x_pos, y_pos, dungeon, hero)\u001b[0m\n\u001b[1;32m      7\u001b[0m         \u001b[0mself\u001b[0m\u001b[0;34m.\u001b[0m\u001b[0my_pos\u001b[0m \u001b[0;34m=\u001b[0m \u001b[0my_pos\u001b[0m\u001b[0;34m\u001b[0m\u001b[0;34m\u001b[0m\u001b[0m\n\u001b[1;32m      8\u001b[0m         \u001b[0mself\u001b[0m\u001b[0;34m.\u001b[0m\u001b[0mdungeon\u001b[0m \u001b[0;34m=\u001b[0m \u001b[0mdungeon\u001b[0m\u001b[0;34m\u001b[0m\u001b[0;34m\u001b[0m\u001b[0m\n\u001b[0;32m----> 9\u001b[0;31m         \u001b[0mprint\u001b[0m\u001b[0;34m(\u001b[0m\u001b[0mstr\u001b[0m\u001b[0;34m(\u001b[0m\u001b[0mx\u001b[0m\u001b[0;34m)\u001b[0m\u001b[0;34m)\u001b[0m\u001b[0;34m\u001b[0m\u001b[0;34m\u001b[0m\u001b[0m\n\u001b[0m\u001b[1;32m     10\u001b[0m \u001b[0;34m\u001b[0m\u001b[0m\n",
      "\u001b[0;31mNameError\u001b[0m: name 'x' is not defined"
     ]
    }
   ],
   "source": [
    "name = Archer(20,50,\"name\",5,7,10,battle_arena,Bo)"
   ]
  },
  {
   "cell_type": "code",
   "execution_count": 13,
   "metadata": {},
   "outputs": [],
   "source": [
    "Ruin = enemy(20,70,\"Ruin\",150,10,7,battle_arena)"
   ]
  },
  {
   "cell_type": "code",
   "execution_count": 14,
   "metadata": {},
   "outputs": [],
   "source": [
    "Bob = enemy(140,60,\"Bob\",50,7,7,battle_arena)"
   ]
  },
  {
   "cell_type": "code",
   "execution_count": 15,
   "metadata": {},
   "outputs": [],
   "source": [
    "Battle_Door = dungeon_door(\"Battle_Door\",5,15)"
   ]
  },
  {
   "cell_type": "code",
   "execution_count": 16,
   "metadata": {},
   "outputs": [
    {
     "name": "stdout",
     "output_type": "stream",
     "text": [
      "4,4\n"
     ]
    }
   ],
   "source": [
    "Bo.move(3,3,battle_arena)"
   ]
  },
  {
   "cell_type": "code",
   "execution_count": 17,
   "metadata": {},
   "outputs": [
    {
     "name": "stdout",
     "output_type": "stream",
     "text": [
      "Bull has died.\n",
      "Bo has leveled up.\n"
     ]
    }
   ],
   "source": [
    "Bo.attack(Bull,battle_arena)"
   ]
  },
  {
   "cell_type": "code",
   "execution_count": 60,
   "metadata": {},
   "outputs": [
    {
     "name": "stdout",
     "output_type": "stream",
     "text": [
      "10,6\n"
     ]
    }
   ],
   "source": [
    "Bo.move(6,2,battle_arena)"
   ]
  },
  {
   "cell_type": "code",
   "execution_count": 62,
   "metadata": {},
   "outputs": [
    {
     "name": "stdout",
     "output_type": "stream",
     "text": [
      "Ruin has died.\n",
      "Bo has leveled up.\n"
     ]
    }
   ],
   "source": [
    "Bo.attack(Ruin,battle_arena)"
   ]
  },
  {
   "cell_type": "code",
   "execution_count": 63,
   "metadata": {},
   "outputs": [
    {
     "name": "stdout",
     "output_type": "stream",
     "text": [
      "7,6\n"
     ]
    }
   ],
   "source": [
    "Bo.move(-3,0,battle_arena)"
   ]
  },
  {
   "cell_type": "code",
   "execution_count": 64,
   "metadata": {},
   "outputs": [
    {
     "name": "stdout",
     "output_type": "stream",
     "text": [
      "Bob has died.\n",
      "All enemies defeated. Now open the dungeon door.\n",
      "Bo has leveled up.\n"
     ]
    }
   ],
   "source": [
    "Bo.attack(Bob,battle_arena)"
   ]
  },
  {
   "cell_type": "code",
   "execution_count": 66,
   "metadata": {},
   "outputs": [
    {
     "name": "stdout",
     "output_type": "stream",
     "text": [
      "5,14\n"
     ]
    }
   ],
   "source": [
    "Bo.move(-2,8,battle_arena)"
   ]
  },
  {
   "cell_type": "code",
   "execution_count": 67,
   "metadata": {},
   "outputs": [
    {
     "name": "stdout",
     "output_type": "stream",
     "text": [
      "You have completed the Dungeon.\n"
     ]
    }
   ],
   "source": [
    "Bo.Open(Battle_Door,battle_arena)"
   ]
  },
  {
   "cell_type": "code",
   "execution_count": null,
   "metadata": {},
   "outputs": [],
   "source": []
  }
 ],
 "metadata": {
  "kernelspec": {
   "display_name": "Python 3",
   "language": "python",
   "name": "python3"
  },
  "language_info": {
   "codemirror_mode": {
    "name": "ipython",
    "version": 3
   },
   "file_extension": ".py",
   "mimetype": "text/x-python",
   "name": "python",
   "nbconvert_exporter": "python",
   "pygments_lexer": "ipython3",
   "version": "3.7.1"
  }
 },
 "nbformat": 4,
 "nbformat_minor": 2
}
